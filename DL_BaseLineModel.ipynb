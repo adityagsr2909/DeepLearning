{
  "nbformat": 4,
  "nbformat_minor": 0,
  "metadata": {
    "colab": {
      "provenance": [],
      "gpuType": "T4",
      "authorship_tag": "ABX9TyMYi65UAWoX9lEb7yCyqI1Y",
      "include_colab_link": true
    },
    "kernelspec": {
      "name": "python3",
      "display_name": "Python 3"
    },
    "language_info": {
      "name": "python"
    },
    "accelerator": "GPU"
  },
  "cells": [
    {
      "cell_type": "markdown",
      "metadata": {
        "id": "view-in-github",
        "colab_type": "text"
      },
      "source": [
        "<a href=\"https://colab.research.google.com/github/adityagsr2909/DeepLearning/blob/main/DL_BaseLineModel.ipynb\" target=\"_parent\"><img src=\"https://colab.research.google.com/assets/colab-badge.svg\" alt=\"Open In Colab\"/></a>"
      ]
    },
    {
      "cell_type": "code",
      "execution_count": 14,
      "metadata": {
        "id": "xCpgrswh5shs"
      },
      "outputs": [],
      "source": [
        "import warnings\n",
        "warnings.filterwarnings(\"ignore\")\n",
        "\n",
        "import pandas as pd\n",
        "import numpy as np\n",
        "import seaborn as sns\n",
        "import matplotlib.pyplot as plt\n",
        "from tqdm import tqdm\n",
        "\n",
        "from keras.models import Sequential\n",
        "from keras.layers import Dense\n",
        "\n",
        "%matplotlib inline"
      ]
    },
    {
      "cell_type": "code",
      "source": [
        "tqdm.pandas()"
      ],
      "metadata": {
        "id": "vC10uED-_Aug"
      },
      "execution_count": 15,
      "outputs": []
    },
    {
      "cell_type": "code",
      "source": [
        "#- Dense() - fully connected network layer - every neuron is connected to every previous neuron\n",
        "#- Dense\n",
        "#- (\n",
        "#-        units - Number of Neurons\n",
        "#-        activation - Activation function to be used in this layer\n",
        "#-        input_dim - Number of Input features to be connected with Neuron\n",
        "#- )\n",
        "#- ReLu - Rectified Linear Unit ; Equation : y=f(x) x>=0, y=0 x<0"
      ],
      "metadata": {
        "id": "58uFJQjYCse3"
      },
      "execution_count": 22,
      "outputs": []
    },
    {
      "cell_type": "code",
      "source": [
        "classification_model = Sequential()\n",
        "classification_model.add(Dense(units=8,input_dim=4, activation='relu')) #- Hidden layer 1\n",
        "classification_model.add(Dense(units=4,activation='tanh')) #- Hidden Layer 2\n",
        "classification_model.add(Dense(units=3,activation='softmax')) #- output Layer\n",
        "#- compile model\n",
        "classification_model.compile(loss='categorical_crossentropy', optimizer='adam', metrics=['accuracy'])"
      ],
      "metadata": {
        "id": "KHL8ptze9p2G"
      },
      "execution_count": 21,
      "outputs": []
    },
    {
      "cell_type": "code",
      "source": [
        "classification_model.summary()"
      ],
      "metadata": {
        "colab": {
          "base_uri": "https://localhost:8080/"
        },
        "id": "ApamtNx7RQtD",
        "outputId": "51459846-6f43-4f19-d648-df57a206aa10"
      },
      "execution_count": 26,
      "outputs": [
        {
          "output_type": "stream",
          "name": "stdout",
          "text": [
            "Model: \"sequential_4\"\n",
            "_________________________________________________________________\n",
            " Layer (type)                Output Shape              Param #   \n",
            "=================================================================\n",
            " dense_8 (Dense)             (None, 8)                 40        \n",
            "                                                                 \n",
            " dense_9 (Dense)             (None, 4)                 36        \n",
            "                                                                 \n",
            " dense_10 (Dense)            (None, 3)                 15        \n",
            "                                                                 \n",
            "=================================================================\n",
            "Total params: 91 (364.00 Byte)\n",
            "Trainable params: 91 (364.00 Byte)\n",
            "Non-trainable params: 0 (0.00 Byte)\n",
            "_________________________________________________________________\n"
          ]
        }
      ]
    },
    {
      "cell_type": "code",
      "source": [
        "classification_model.fit(X_train, y_train, epochs=1000, validation_split=0.2)"
      ],
      "metadata": {
        "id": "ch-si1eMTJ5k"
      },
      "execution_count": null,
      "outputs": []
    },
    {
      "cell_type": "code",
      "source": [
        "regression_model = Sequential()\n",
        "regression_model.add(Dense(units=4, input_dim=4, activation='relu'))\n",
        "regression_model.add(Dense(units=2, activation='relu'))\n",
        "regression_model.add(Dense(units=1, activation='linear'))\n",
        "regression_model.compile(loss='mean_squared_error', optimizer='sgd', metrics=['root_mean_squared_error'])"
      ],
      "metadata": {
        "id": "x5zEIU9DMxWE"
      },
      "execution_count": 25,
      "outputs": []
    },
    {
      "cell_type": "code",
      "source": [
        "regression_model.summary()"
      ],
      "metadata": {
        "colab": {
          "base_uri": "https://localhost:8080/"
        },
        "id": "12vv-v7-SniC",
        "outputId": "c5406891-81b2-49d1-8b91-1ecb9fd2cd4d"
      },
      "execution_count": 27,
      "outputs": [
        {
          "output_type": "stream",
          "name": "stdout",
          "text": [
            "Model: \"sequential_7\"\n",
            "_________________________________________________________________\n",
            " Layer (type)                Output Shape              Param #   \n",
            "=================================================================\n",
            " dense_14 (Dense)            (None, 4)                 20        \n",
            "                                                                 \n",
            " dense_15 (Dense)            (None, 2)                 10        \n",
            "                                                                 \n",
            " dense_16 (Dense)            (None, 1)                 3         \n",
            "                                                                 \n",
            "=================================================================\n",
            "Total params: 33 (132.00 Byte)\n",
            "Trainable params: 33 (132.00 Byte)\n",
            "Non-trainable params: 0 (0.00 Byte)\n",
            "_________________________________________________________________\n"
          ]
        }
      ]
    },
    {
      "cell_type": "code",
      "source": [
        "regression_model.fit(X_train, y_train, epochs=1000, validation_split=0.2)"
      ],
      "metadata": {
        "id": "--_ulPlFSqb5"
      },
      "execution_count": null,
      "outputs": []
    },
    {
      "cell_type": "code",
      "source": [],
      "metadata": {
        "id": "DpWmPdA7XcbS"
      },
      "execution_count": null,
      "outputs": []
    },
    {
      "cell_type": "code",
      "source": [],
      "metadata": {
        "id": "ccbQOgWIXchB"
      },
      "execution_count": null,
      "outputs": []
    },
    {
      "cell_type": "code",
      "source": [
        "10 input\n",
        "20N relu\n",
        "30N"
      ],
      "metadata": {
        "id": "1ORDRmI1Xcl6"
      },
      "execution_count": null,
      "outputs": []
    },
    {
      "cell_type": "code",
      "source": [
        "model = Sequential()\n",
        "model.add(Dense(units=20, activation='relu', input_dim=10))\n",
        "model.add(Dense(units=30, activation='tanh'))\n",
        "model.add(Dense(units=1, activation='sigmoid'))\n",
        "model.compile(loss='BinaryCrossentropy', optimizer='adam', metrics=['accuracy'])\n",
        "model.fit(X_train,y_train, epochs=100, validation_split=0.2)"
      ],
      "metadata": {
        "id": "JdUW77S3Xjoi"
      },
      "execution_count": null,
      "outputs": []
    }
  ]
}